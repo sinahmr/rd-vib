{
  "nbformat": 4,
  "nbformat_minor": 0,
  "metadata": {
    "kernelspec": {
      "name": "python3",
      "display_name": "Python 3"
    },
    "notify_time": "5",
    "varInspector": {
      "cols": {
        "lenName": 16,
        "lenType": 16,
        "lenVar": 40
      },
      "kernels_config": {
        "python": {
          "delete_cmd_postfix": "",
          "delete_cmd_prefix": "del ",
          "library": "var_list.py",
          "varRefreshCmd": "print(var_dic_list())"
        },
        "r": {
          "delete_cmd_postfix": ") ",
          "delete_cmd_prefix": "rm(",
          "library": "var_list.r",
          "varRefreshCmd": "cat(var_dic_list()) "
        }
      },
      "types_to_exclude": [
        "module",
        "function",
        "builtin_function_or_method",
        "instance",
        "_Feature"
      ],
      "window_display": false
    },
    "colab": {
      "name": "optimize-by-izx.ipynb",
      "provenance": [],
      "collapsed_sections": []
    },
    "accelerator": "GPU"
  },
  "cells": [
    {
      "cell_type": "markdown",
      "metadata": {
        "id": "k0lisK-9eE37",
        "colab_type": "text"
      },
      "source": [
        "# MNIST VIB\n",
        "Optimized by `I(Z, X)` estimation\n"
      ]
    },
    {
      "cell_type": "code",
      "metadata": {
        "ExecuteTime": {
          "end_time": "2019-10-23T08:58:42.208433Z",
          "start_time": "2019-10-23T08:58:40.736165Z"
        },
        "id": "ppEWWFveeE3_",
        "colab_type": "code",
        "colab": {}
      },
      "source": [
        "import numpy as np\n",
        "import matplotlib.pyplot as plt\n",
        "import tensorflow as tf\n",
        "from tqdm.notebook import trange\n",
        "\n",
        "%matplotlib inline"
      ],
      "execution_count": 2,
      "outputs": []
    },
    {
      "cell_type": "code",
      "metadata": {
        "ExecuteTime": {
          "end_time": "2019-10-23T08:40:37.043122Z",
          "start_time": "2019-10-23T08:40:36.997317Z"
        },
        "scrolled": true,
        "id": "o_QO9316eE4N",
        "colab_type": "code",
        "colab": {}
      },
      "source": [
        "tf.reset_default_graph()\n",
        "\n",
        "# Turn on xla optimization\n",
        "config = tf.ConfigProto(log_device_placement=True)\n",
        "config.graph_options.optimizer_options.global_jit_level = tf.OptimizerOptions.ON_1\n",
        "config.gpu_options.allow_growth = True"
      ],
      "execution_count": 3,
      "outputs": []
    },
    {
      "cell_type": "code",
      "metadata": {
        "ExecuteTime": {
          "end_time": "2019-10-22T17:05:36.386262Z",
          "start_time": "2019-10-22T17:05:35.302752Z"
        },
        "id": "GkSuuqgfeE4b",
        "colab_type": "code",
        "colab": {}
      },
      "source": [
        "from tensorflow.examples.tutorials.mnist import input_data\n",
        "mnist_data = input_data.read_data_sets('/tmp/mnistdata')"
      ],
      "execution_count": null,
      "outputs": []
    },
    {
      "cell_type": "code",
      "metadata": {
        "ExecuteTime": {
          "end_time": "2019-10-22T17:05:36.433717Z",
          "start_time": "2019-10-22T17:05:36.431430Z"
        },
        "id": "PjC5aPy5eE4m",
        "colab_type": "code",
        "colab": {}
      },
      "source": [
        "k = 256  # Latent variable dimension"
      ],
      "execution_count": 5,
      "outputs": []
    },
    {
      "cell_type": "code",
      "metadata": {
        "ExecuteTime": {
          "end_time": "2019-10-22T17:05:36.906289Z",
          "start_time": "2019-10-22T17:05:36.886740Z"
        },
        "id": "BaGGLur5eE4v",
        "colab_type": "code",
        "colab": {}
      },
      "source": [
        "beta = tf.placeholder(tf.float32, shape=(), name='beta')\n",
        "\n",
        "images = tf.placeholder(tf.float32, [None, 784], 'images')\n",
        "labels = tf.placeholder(tf.int64, [None], 'labels')\n",
        "one_hot_labels = tf.one_hot(labels, 10)\n",
        "\n",
        "other_mus = tf.placeholder(tf.float32, [None, k], 'other_mus')\n",
        "other_rhos = tf.placeholder(tf.float32, [None, k], 'other_rhos')"
      ],
      "execution_count": 6,
      "outputs": []
    },
    {
      "cell_type": "code",
      "metadata": {
        "ExecuteTime": {
          "end_time": "2019-10-22T17:05:37.396481Z",
          "start_time": "2019-10-22T17:05:37.382264Z"
        },
        "id": "OHQfAwRDeE44",
        "colab_type": "code",
        "colab": {}
      },
      "source": [
        "layers = tf.contrib.layers\n",
        "ds = tf.contrib.distributions\n",
        "\n",
        "def encoder(images):\n",
        "    net = layers.relu(2 * images - 1, 1024)\n",
        "    net = layers.relu(net, 1024)\n",
        "    params = layers.linear(net, 2 * k)\n",
        "    mu, rho = params[:, :k], params[:, k:]\n",
        "    encoding = ds.NormalWithSoftplusScale(mu, rho)\n",
        "    return mu, rho, encoding\n",
        "\n",
        "def decoder(encoding_sample):\n",
        "    net = layers.linear(encoding_sample, 10)\n",
        "    return net\n",
        "\n",
        "prior = ds.Normal(0.0, 1.0)"
      ],
      "execution_count": null,
      "outputs": []
    },
    {
      "cell_type": "code",
      "metadata": {
        "ExecuteTime": {
          "end_time": "2019-10-22T17:05:38.725092Z",
          "start_time": "2019-10-22T17:05:37.975012Z"
        },
        "id": "Cp9WhqrAeE5C",
        "colab_type": "code",
        "colab": {}
      },
      "source": [
        "import math\n",
        "\n",
        "with tf.variable_scope('encoder'):\n",
        "    mu, rho, encoding = encoder(images)\n",
        "    \n",
        "with tf.variable_scope('decoder'):\n",
        "    z = encoding.sample()\n",
        "    logits = decoder(z)\n",
        "    \n",
        "with tf.variable_scope('decoder', reuse=True):\n",
        "    many_logits = decoder(encoding.sample(12))\n"
      ],
      "execution_count": null,
      "outputs": []
    },
    {
      "cell_type": "code",
      "metadata": {
        "ExecuteTime": {
          "end_time": "2019-10-22T17:05:38.829484Z",
          "start_time": "2019-10-22T17:05:38.779874Z"
        },
        "id": "jOSOON4peE5J",
        "colab_type": "code",
        "colab": {}
      },
      "source": [
        "# m: len(base_mu), b: batch_size, k: hidden_dim\n",
        "# inputs: z (b, k), mu (b, k), rho (b, k), other_mus (m, k), other_rhos (m, k)\n",
        "\n",
        "log_2_pi = tf.log(2 * np.pi)\n",
        "b = tf.shape(z)[0]\n",
        "\n",
        "all_mus = tf.concat([mu, other_mus], axis=0)  # (b+m) x k\n",
        "all_rhos = tf.concat([rho, other_rhos], axis=0)  # (b+m) x k\n",
        "\n",
        "soft_plused_rho_arr = tf.math.softplus(all_rhos)\n",
        "inv_cov_arr = 1 / soft_plused_rho_arr  # m x k\n",
        "log_det_arr = tf.reduce_sum(tf.log(soft_plused_rho_arr), axis=1, keepdims=True)  # m x 1\n",
        "z_minus_mu_matrix = z - tf.expand_dims(all_mus, 1)  # m x b x k\n",
        "gaussian_matrix_term = tf.reduce_sum(tf.multiply(\n",
        "    tf.multiply(z_minus_mu_matrix, z_minus_mu_matrix), \n",
        "    tf.expand_dims(inv_cov_arr, axis=1)), \n",
        "    axis=2\n",
        ")  # m x b\n",
        "\n",
        "log_p_z_given_x = -k/2 * log_2_pi + -1/2 * log_det_arr + -1/2 * gaussian_matrix_term  # axis0: x, axis1: z\n",
        "\n",
        "log_p_x_i_given_z_i = tf.linalg.tensor_diag_part(log_p_z_given_x[:b, :b]) - tf.reduce_logsumexp(log_p_z_given_x, axis=0)\n",
        "log_p_x_i_given_z_i /= np.log(2)\n",
        "estimated_h_x_given_z = -1 * tf.reduce_mean(log_p_x_i_given_z_i)\n",
        "estimation_std = tf.math.reduce_std(log_p_x_i_given_z_i)"
      ],
      "execution_count": null,
      "outputs": []
    },
    {
      "cell_type": "code",
      "metadata": {
        "ExecuteTime": {
          "end_time": "2019-10-22T17:05:39.502345Z",
          "start_time": "2019-10-22T17:05:39.453550Z"
        },
        "id": "k3C5O7Q1eE5Q",
        "colab_type": "code",
        "colab": {}
      },
      "source": [
        "class_loss = tf.losses.softmax_cross_entropy(logits=logits, onehot_labels=one_hot_labels) / math.log(2)\n",
        "total_loss = class_loss - beta * estimated_h_x_given_z"
      ],
      "execution_count": 10,
      "outputs": []
    },
    {
      "cell_type": "code",
      "metadata": {
        "ExecuteTime": {
          "end_time": "2019-10-22T17:05:39.890102Z",
          "start_time": "2019-10-22T17:05:39.870725Z"
        },
        "id": "jiLsfNwGeE5X",
        "colab_type": "code",
        "colab": {}
      },
      "source": [
        "accuracy = tf.reduce_mean(tf.cast(\n",
        "    tf.equal(tf.argmax(logits, 1), labels), tf.float32\n",
        "))\n",
        "avg_accuracy = tf.reduce_mean(tf.cast(\n",
        "    tf.equal(tf.argmax(tf.reduce_mean(tf.nn.softmax(many_logits), 0), 1), labels), tf.float32\n",
        "))\n",
        "IZY_bound = math.log(10, 2) - class_loss"
      ],
      "execution_count": 11,
      "outputs": []
    },
    {
      "cell_type": "code",
      "metadata": {
        "ExecuteTime": {
          "end_time": "2019-10-22T17:05:40.465712Z",
          "start_time": "2019-10-22T17:05:40.461749Z"
        },
        "id": "4LxFOdAieE5e",
        "colab_type": "code",
        "colab": {}
      },
      "source": [
        "batch_size = 100\n",
        "steps_per_batch = int(mnist_data.train.num_examples / batch_size)"
      ],
      "execution_count": 12,
      "outputs": []
    },
    {
      "cell_type": "code",
      "metadata": {
        "ExecuteTime": {
          "end_time": "2019-10-22T17:05:41.750921Z",
          "start_time": "2019-10-22T17:05:41.126757Z"
        },
        "id": "PK8MZuDweE5m",
        "colab_type": "code",
        "colab": {}
      },
      "source": [
        "global_step = tf.contrib.framework.get_or_create_global_step()\n",
        "learning_rate = tf.train.exponential_decay(1e-4, global_step,\n",
        "                                           decay_steps=2*steps_per_batch,\n",
        "                                           decay_rate=0.97, staircase=True)\n",
        "opt = tf.train.AdamOptimizer(learning_rate, 0.5)\n",
        "\n",
        "ma = tf.train.ExponentialMovingAverage(0.999, zero_debias=True)\n",
        "ma_update = ma.apply(tf.model_variables())\n",
        "\n",
        "saver = tf.train.Saver()\n",
        "saver_polyak = tf.train.Saver(ma.variables_to_restore())\n",
        "\n",
        "train_tensor = tf.contrib.training.create_train_op(total_loss, opt,\n",
        "                                                   global_step,\n",
        "                                                   update_ops=[ma_update])"
      ],
      "execution_count": null,
      "outputs": []
    },
    {
      "cell_type": "code",
      "metadata": {
        "ExecuteTime": {
          "end_time": "2019-10-22T17:05:41.888354Z",
          "start_time": "2019-10-22T17:05:41.883664Z"
        },
        "id": "OfuWVYpEeE5t",
        "colab_type": "code",
        "colab": {}
      },
      "source": [
        "N_EPOCH = 20\n",
        "beta_choices = [math.pow(10, x) for x in range(-4, 0)]\n",
        "\n",
        "n = mnist_data.train.labels.shape[0]\n",
        "m = 10000"
      ],
      "execution_count": 14,
      "outputs": []
    },
    {
      "cell_type": "code",
      "metadata": {
        "ExecuteTime": {
          "end_time": "2019-10-22T17:05:42.926667Z",
          "start_time": "2019-10-22T17:05:42.911832Z"
        },
        "id": "6QyZh989eE51",
        "colab_type": "code",
        "colab": {}
      },
      "source": [
        "def evaluate(sess, test=False):\n",
        "    data = mnist_data.validation\n",
        "    if test:\n",
        "        data = mnist_data.test\n",
        "    \n",
        "    IZY, acc, avg_acc = sess.run([IZY_bound, accuracy, avg_accuracy], feed_dict={images: data.images, labels: data.labels})\n",
        "    \n",
        "    other_mus_indices = np.random.choice(list(range(0, n)), m)\n",
        "    other_mus_np, other_rhos_np = sess.run([mu, rho], feed_dict={images: mnist_data.train.images[other_mus_indices]})\n",
        "    \n",
        "    batch_indices = np.random.choice(list(range(0, data.labels.shape[0])), batch_size)\n",
        "    h_x_given_z, std = sess.run([estimated_h_x_given_z, estimation_std], feed_dict={\n",
        "        images: data.images[batch_indices], labels: data.labels[batch_indices],\n",
        "        other_mus: other_mus_np, other_rhos: other_rhos_np\n",
        "    })\n",
        "\n",
        "    return IZY, h_x_given_z, std, 1-acc, 1-avg_acc"
      ],
      "execution_count": 15,
      "outputs": []
    },
    {
      "cell_type": "code",
      "metadata": {
        "ExecuteTime": {
          "start_time": "2019-10-22T17:07:48.859Z"
        },
        "scrolled": true,
        "id": "vSnbNCdveE57",
        "colab_type": "code",
        "colab": {}
      },
      "source": [
        "results = np.zeros((len(beta_choices), N_EPOCH, 5))\n",
        "\n",
        "for idx, b in enumerate(beta_choices):\n",
        "    with tf.Session(config=config) as sess:\n",
        "        sess.run(tf.global_variables_initializer())\n",
        "        for epoch in trange(N_EPOCH, leave=True):\n",
        "            for step in trange(steps_per_batch, leave=False):\n",
        "                batch_indices = range(step * batch_size, (step + 1) * batch_size)\n",
        "                im, ls = mnist_data.train.images[batch_indices], mnist_data.train.labels[batch_indices]\n",
        "        \n",
        "                other_mus_indices = list(set(range(0, n)) - set(batch_indices))\n",
        "                other_mus_indices = np.random.choice(other_mus_indices, m)\n",
        "                \n",
        "                other_mus_np, other_rhos_np = sess.run([mu, rho], feed_dict={images: mnist_data.train.images[other_mus_indices]})\n",
        "                \n",
        "                sess.run([train_tensor, estimated_h_x_given_z], feed_dict={\n",
        "                    images: im, labels: ls, \n",
        "                    other_mus: other_mus_np, other_rhos: other_rhos_np, \n",
        "                    beta: b\n",
        "                })\n",
        "                \n",
        "            IZY, h_x_given_z, std, err, avg_err = evaluate(sess)\n",
        "            \n",
        "            results[idx, epoch, :] = IZY, h_x_given_z, std, err, avg_err\n",
        "            if epoch > 10 and avg_err > 0.1:  # Ignore non-promising hyperparameters\n",
        "                break"
      ],
      "execution_count": null,
      "outputs": []
    },
    {
      "cell_type": "code",
      "metadata": {
        "ExecuteTime": {
          "end_time": "2019-10-17T05:19:06.501016Z",
          "start_time": "2019-10-17T05:19:05.779517Z"
        },
        "id": "AxxndOq4eE6D",
        "colab_type": "code",
        "colab": {
          "base_uri": "https://localhost:8080/",
          "height": 1000
        },
        "outputId": "ff0a9829-9b77-438c-ee46-b4b711d8f3b0"
      },
      "source": [
        "which_run_setting = 3\n",
        "print(results[which_run_setting, :, 3].min(), results[which_run_setting, :, 4].min())\n",
        "\n",
        "_, length_ax = plt.subplots()\n",
        "plt.title('Error')\n",
        "length_ax.plot(range(N_EPOCH), results[which_run_setting, :, 3], label='single')\n",
        "length_ax.plot(range(N_EPOCH), results[which_run_setting, :, 4], label='avg')\n",
        "length_ax.legend()\n",
        "\n",
        "_, length_ax = plt.subplots()\n",
        "plt.title('IYZ')\n",
        "length_ax.plot(range(N_EPOCH), results[which_run_setting, :, 0])\n",
        "\n",
        "_, length_ax = plt.subplots()\n",
        "plt.title('H(X|Z)')\n",
        "length_ax.plot(range(N_EPOCH), results[which_run_setting, :, 1])\n",
        "\n",
        "_, length_ax = plt.subplots()\n",
        "plt.title('STD of H(X|Z)')\n",
        "length_ax.plot(range(N_EPOCH), results[which_run_setting, :, 2])"
      ],
      "execution_count": 24,
      "outputs": [
        {
          "output_type": "stream",
          "text": [
            "0.02180004119873047 0.015200018882751465\n"
          ],
          "name": "stdout"
        },
        {
          "output_type": "execute_result",
          "data": {
            "text/plain": [
              "[<matplotlib.lines.Line2D at 0x7ff3dc195438>]"
            ]
          },
          "metadata": {
            "tags": []
          },
          "execution_count": 24
        },
        {
          "output_type": "display_data",
          "data": {
            "image/png": "[encoded data removed]",
            "text/plain": [
              "<Figure size 432x288 with 1 Axes>"
            ]
          },
          "metadata": {
            "tags": [],
            "needs_background": "light"
          }
        },
        {
          "output_type": "display_data",
          "data": {
            "image/png": "[encoded data removed]",
            "text/plain": [
              "<Figure size 432x288 with 1 Axes>"
            ]
          },
          "metadata": {
            "tags": [],
            "needs_background": "light"
          }
        },
        {
          "output_type": "display_data",
          "data": {
            "image/png": "[encoded data removed]",
            "text/plain": [
              "<Figure size 432x288 with 1 Axes>"
            ]
          },
          "metadata": {
            "tags": [],
            "needs_background": "light"
          }
        },
        {
          "output_type": "display_data",
          "data": {
            "image/png": "[encoded data removed]",
            "text/plain": [
              "<Figure size 432x288 with 1 Axes>"
            ]
          },
          "metadata": {
            "tags": [],
            "needs_background": "light"
          }
        }
      ]
    },
    {
      "cell_type": "code",
      "metadata": {
        "id": "7yMoR9iyh_f-",
        "colab_type": "code",
        "colab": {}
      },
      "source": [
        ""
      ],
      "execution_count": null,
      "outputs": []
    }
  ]
}